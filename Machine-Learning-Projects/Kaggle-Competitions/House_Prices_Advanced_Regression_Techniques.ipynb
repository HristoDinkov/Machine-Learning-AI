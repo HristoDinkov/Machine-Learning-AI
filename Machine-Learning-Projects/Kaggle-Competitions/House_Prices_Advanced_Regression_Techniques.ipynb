{
  "nbformat": 4,
  "nbformat_minor": 0,
  "metadata": {
    "kernelspec": {
      "display_name": "Python 3",
      "language": "python",
      "name": "python3"
    },
    "language_info": {
      "codemirror_mode": {
        "name": "ipython",
        "version": 3
      },
      "file_extension": ".py",
      "mimetype": "text/x-python",
      "name": "python",
      "nbconvert_exporter": "python",
      "pygments_lexer": "ipython3",
      "version": "3.7.6"
    },
    "colab": {
      "name": "House Prices - Advanced Regression Techniques.ipynb",
      "provenance": [],
      "collapsed_sections": [],
      "include_colab_link": true
    }
  },
  "cells": [
    {
      "cell_type": "markdown",
      "metadata": {
        "id": "view-in-github",
        "colab_type": "text"
      },
      "source": [
        "<a href=\"https://colab.research.google.com/github/HristoDinkov/Machine-Learning-AI/blob/master/Machine-Learning-Projects/Kaggle-Competitions/House_Prices_Advanced_Regression_Techniques.ipynb\" target=\"_parent\"><img src=\"https://colab.research.google.com/assets/colab-badge.svg\" alt=\"Open In Colab\"/></a>"
      ]
    },
    {
      "cell_type": "markdown",
      "metadata": {
        "id": "Gga3SQhzlncQ",
        "colab_type": "text"
      },
      "source": [
        "# House Prices: Advanced Regression Techniques - [Kaggle Competition](https://www.kaggle.com/c/house-prices-advanced-regression-techniques)\n",
        "\n",
        "by Hristo Dinkov\n",
        "\n",
        "## Competition Description\n",
        "Ask a home buyer to describe their dream house, and they probably won't begin with the height of the basement ceiling or the proximity to an east-west railroad. But this playground competition's dataset proves that much more influences price negotiations than the number of bedrooms or a white-picket fence.\n",
        "\n",
        "With 79 explanatory variables describing (almost) every aspect of residential homes in Ames, Iowa, this competition challenges you to predict the final price of each home.\n",
        "\n",
        "## Practise skills:\n",
        "* Creative feature engineering \n",
        "* Advanced regression techniques like random forest and gradient boosting"
      ]
    },
    {
      "cell_type": "code",
      "metadata": {
        "id": "CgJqHzXolncT",
        "colab_type": "code",
        "colab": {}
      },
      "source": [
        ""
      ],
      "execution_count": null,
      "outputs": []
    }
  ]
}